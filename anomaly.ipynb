{
 "cells": [
  {
   "cell_type": "markdown",
   "metadata": {},
   "source": [
    "# loading data"
   ]
  },
  {
   "cell_type": "code",
   "execution_count": 4,
   "metadata": {},
   "outputs": [
    {
     "name": "stderr",
     "output_type": "stream",
     "text": [
      "C:\\Users\\BIRIRKIPCHIRCHIRSOSP\\AppData\\Local\\Temp\\ipykernel_26992\\125822463.py:1: DeprecationWarning: \n",
      "Pyarrow will become a required dependency of pandas in the next major release of pandas (pandas 3.0),\n",
      "(to allow more performant data types, such as the Arrow string type, and better interoperability with other libraries)\n",
      "but was not found to be installed on your system.\n",
      "If this would cause problems for you,\n",
      "please provide us feedback at https://github.com/pandas-dev/pandas/issues/54466\n",
      "        \n",
      "  import pandas as pd\n"
     ]
    },
    {
     "ename": "FileNotFoundError",
     "evalue": "[Errno 2] No such file or directory: 'Linux_2k.log_structured.csv'",
     "output_type": "error",
     "traceback": [
      "\u001b[1;31m---------------------------------------------------------------------------\u001b[0m",
      "\u001b[1;31mFileNotFoundError\u001b[0m                         Traceback (most recent call last)",
      "Cell \u001b[1;32mIn[4], line 4\u001b[0m\n\u001b[0;32m      1\u001b[0m \u001b[38;5;28;01mimport\u001b[39;00m \u001b[38;5;21;01mpandas\u001b[39;00m \u001b[38;5;28;01mas\u001b[39;00m \u001b[38;5;21;01mpd\u001b[39;00m\n\u001b[0;32m      3\u001b[0m \u001b[38;5;66;03m# Load the log data into a DataFrame\u001b[39;00m\n\u001b[1;32m----> 4\u001b[0m df \u001b[38;5;241m=\u001b[39m \u001b[43mpd\u001b[49m\u001b[38;5;241;43m.\u001b[39;49m\u001b[43mread_csv\u001b[49m\u001b[43m(\u001b[49m\u001b[38;5;124;43m'\u001b[39;49m\u001b[38;5;124;43mLinux_2k.log_structured.csv\u001b[39;49m\u001b[38;5;124;43m'\u001b[39;49m\u001b[43m)\u001b[49m\n\u001b[0;32m      6\u001b[0m \u001b[38;5;66;03m# Display the first few rows of the DataFrame\u001b[39;00m\n\u001b[0;32m      7\u001b[0m \u001b[38;5;28mprint\u001b[39m(df\u001b[38;5;241m.\u001b[39mhead())\n",
      "File \u001b[1;32mc:\\Program Files\\Python39\\lib\\site-packages\\pandas\\io\\parsers\\readers.py:1024\u001b[0m, in \u001b[0;36mread_csv\u001b[1;34m(filepath_or_buffer, sep, delimiter, header, names, index_col, usecols, dtype, engine, converters, true_values, false_values, skipinitialspace, skiprows, skipfooter, nrows, na_values, keep_default_na, na_filter, verbose, skip_blank_lines, parse_dates, infer_datetime_format, keep_date_col, date_parser, date_format, dayfirst, cache_dates, iterator, chunksize, compression, thousands, decimal, lineterminator, quotechar, quoting, doublequote, escapechar, comment, encoding, encoding_errors, dialect, on_bad_lines, delim_whitespace, low_memory, memory_map, float_precision, storage_options, dtype_backend)\u001b[0m\n\u001b[0;32m   1011\u001b[0m kwds_defaults \u001b[38;5;241m=\u001b[39m _refine_defaults_read(\n\u001b[0;32m   1012\u001b[0m     dialect,\n\u001b[0;32m   1013\u001b[0m     delimiter,\n\u001b[1;32m   (...)\u001b[0m\n\u001b[0;32m   1020\u001b[0m     dtype_backend\u001b[38;5;241m=\u001b[39mdtype_backend,\n\u001b[0;32m   1021\u001b[0m )\n\u001b[0;32m   1022\u001b[0m kwds\u001b[38;5;241m.\u001b[39mupdate(kwds_defaults)\n\u001b[1;32m-> 1024\u001b[0m \u001b[38;5;28;01mreturn\u001b[39;00m \u001b[43m_read\u001b[49m\u001b[43m(\u001b[49m\u001b[43mfilepath_or_buffer\u001b[49m\u001b[43m,\u001b[49m\u001b[43m \u001b[49m\u001b[43mkwds\u001b[49m\u001b[43m)\u001b[49m\n",
      "File \u001b[1;32mc:\\Program Files\\Python39\\lib\\site-packages\\pandas\\io\\parsers\\readers.py:618\u001b[0m, in \u001b[0;36m_read\u001b[1;34m(filepath_or_buffer, kwds)\u001b[0m\n\u001b[0;32m    615\u001b[0m _validate_names(kwds\u001b[38;5;241m.\u001b[39mget(\u001b[38;5;124m\"\u001b[39m\u001b[38;5;124mnames\u001b[39m\u001b[38;5;124m\"\u001b[39m, \u001b[38;5;28;01mNone\u001b[39;00m))\n\u001b[0;32m    617\u001b[0m \u001b[38;5;66;03m# Create the parser.\u001b[39;00m\n\u001b[1;32m--> 618\u001b[0m parser \u001b[38;5;241m=\u001b[39m TextFileReader(filepath_or_buffer, \u001b[38;5;241m*\u001b[39m\u001b[38;5;241m*\u001b[39mkwds)\n\u001b[0;32m    620\u001b[0m \u001b[38;5;28;01mif\u001b[39;00m chunksize \u001b[38;5;129;01mor\u001b[39;00m iterator:\n\u001b[0;32m    621\u001b[0m     \u001b[38;5;28;01mreturn\u001b[39;00m parser\n",
      "File \u001b[1;32mc:\\Program Files\\Python39\\lib\\site-packages\\pandas\\io\\parsers\\readers.py:1618\u001b[0m, in \u001b[0;36mTextFileReader.__init__\u001b[1;34m(self, f, engine, **kwds)\u001b[0m\n\u001b[0;32m   1615\u001b[0m     \u001b[38;5;28mself\u001b[39m\u001b[38;5;241m.\u001b[39moptions[\u001b[38;5;124m\"\u001b[39m\u001b[38;5;124mhas_index_names\u001b[39m\u001b[38;5;124m\"\u001b[39m] \u001b[38;5;241m=\u001b[39m kwds[\u001b[38;5;124m\"\u001b[39m\u001b[38;5;124mhas_index_names\u001b[39m\u001b[38;5;124m\"\u001b[39m]\n\u001b[0;32m   1617\u001b[0m \u001b[38;5;28mself\u001b[39m\u001b[38;5;241m.\u001b[39mhandles: IOHandles \u001b[38;5;241m|\u001b[39m \u001b[38;5;28;01mNone\u001b[39;00m \u001b[38;5;241m=\u001b[39m \u001b[38;5;28;01mNone\u001b[39;00m\n\u001b[1;32m-> 1618\u001b[0m \u001b[38;5;28mself\u001b[39m\u001b[38;5;241m.\u001b[39m_engine \u001b[38;5;241m=\u001b[39m \u001b[38;5;28;43mself\u001b[39;49m\u001b[38;5;241;43m.\u001b[39;49m\u001b[43m_make_engine\u001b[49m\u001b[43m(\u001b[49m\u001b[43mf\u001b[49m\u001b[43m,\u001b[49m\u001b[43m \u001b[49m\u001b[38;5;28;43mself\u001b[39;49m\u001b[38;5;241;43m.\u001b[39;49m\u001b[43mengine\u001b[49m\u001b[43m)\u001b[49m\n",
      "File \u001b[1;32mc:\\Program Files\\Python39\\lib\\site-packages\\pandas\\io\\parsers\\readers.py:1878\u001b[0m, in \u001b[0;36mTextFileReader._make_engine\u001b[1;34m(self, f, engine)\u001b[0m\n\u001b[0;32m   1876\u001b[0m     \u001b[38;5;28;01mif\u001b[39;00m \u001b[38;5;124m\"\u001b[39m\u001b[38;5;124mb\u001b[39m\u001b[38;5;124m\"\u001b[39m \u001b[38;5;129;01mnot\u001b[39;00m \u001b[38;5;129;01min\u001b[39;00m mode:\n\u001b[0;32m   1877\u001b[0m         mode \u001b[38;5;241m+\u001b[39m\u001b[38;5;241m=\u001b[39m \u001b[38;5;124m\"\u001b[39m\u001b[38;5;124mb\u001b[39m\u001b[38;5;124m\"\u001b[39m\n\u001b[1;32m-> 1878\u001b[0m \u001b[38;5;28mself\u001b[39m\u001b[38;5;241m.\u001b[39mhandles \u001b[38;5;241m=\u001b[39m \u001b[43mget_handle\u001b[49m\u001b[43m(\u001b[49m\n\u001b[0;32m   1879\u001b[0m \u001b[43m    \u001b[49m\u001b[43mf\u001b[49m\u001b[43m,\u001b[49m\n\u001b[0;32m   1880\u001b[0m \u001b[43m    \u001b[49m\u001b[43mmode\u001b[49m\u001b[43m,\u001b[49m\n\u001b[0;32m   1881\u001b[0m \u001b[43m    \u001b[49m\u001b[43mencoding\u001b[49m\u001b[38;5;241;43m=\u001b[39;49m\u001b[38;5;28;43mself\u001b[39;49m\u001b[38;5;241;43m.\u001b[39;49m\u001b[43moptions\u001b[49m\u001b[38;5;241;43m.\u001b[39;49m\u001b[43mget\u001b[49m\u001b[43m(\u001b[49m\u001b[38;5;124;43m\"\u001b[39;49m\u001b[38;5;124;43mencoding\u001b[39;49m\u001b[38;5;124;43m\"\u001b[39;49m\u001b[43m,\u001b[49m\u001b[43m \u001b[49m\u001b[38;5;28;43;01mNone\u001b[39;49;00m\u001b[43m)\u001b[49m\u001b[43m,\u001b[49m\n\u001b[0;32m   1882\u001b[0m \u001b[43m    \u001b[49m\u001b[43mcompression\u001b[49m\u001b[38;5;241;43m=\u001b[39;49m\u001b[38;5;28;43mself\u001b[39;49m\u001b[38;5;241;43m.\u001b[39;49m\u001b[43moptions\u001b[49m\u001b[38;5;241;43m.\u001b[39;49m\u001b[43mget\u001b[49m\u001b[43m(\u001b[49m\u001b[38;5;124;43m\"\u001b[39;49m\u001b[38;5;124;43mcompression\u001b[39;49m\u001b[38;5;124;43m\"\u001b[39;49m\u001b[43m,\u001b[49m\u001b[43m \u001b[49m\u001b[38;5;28;43;01mNone\u001b[39;49;00m\u001b[43m)\u001b[49m\u001b[43m,\u001b[49m\n\u001b[0;32m   1883\u001b[0m \u001b[43m    \u001b[49m\u001b[43mmemory_map\u001b[49m\u001b[38;5;241;43m=\u001b[39;49m\u001b[38;5;28;43mself\u001b[39;49m\u001b[38;5;241;43m.\u001b[39;49m\u001b[43moptions\u001b[49m\u001b[38;5;241;43m.\u001b[39;49m\u001b[43mget\u001b[49m\u001b[43m(\u001b[49m\u001b[38;5;124;43m\"\u001b[39;49m\u001b[38;5;124;43mmemory_map\u001b[39;49m\u001b[38;5;124;43m\"\u001b[39;49m\u001b[43m,\u001b[49m\u001b[43m \u001b[49m\u001b[38;5;28;43;01mFalse\u001b[39;49;00m\u001b[43m)\u001b[49m\u001b[43m,\u001b[49m\n\u001b[0;32m   1884\u001b[0m \u001b[43m    \u001b[49m\u001b[43mis_text\u001b[49m\u001b[38;5;241;43m=\u001b[39;49m\u001b[43mis_text\u001b[49m\u001b[43m,\u001b[49m\n\u001b[0;32m   1885\u001b[0m \u001b[43m    \u001b[49m\u001b[43merrors\u001b[49m\u001b[38;5;241;43m=\u001b[39;49m\u001b[38;5;28;43mself\u001b[39;49m\u001b[38;5;241;43m.\u001b[39;49m\u001b[43moptions\u001b[49m\u001b[38;5;241;43m.\u001b[39;49m\u001b[43mget\u001b[49m\u001b[43m(\u001b[49m\u001b[38;5;124;43m\"\u001b[39;49m\u001b[38;5;124;43mencoding_errors\u001b[39;49m\u001b[38;5;124;43m\"\u001b[39;49m\u001b[43m,\u001b[49m\u001b[43m \u001b[49m\u001b[38;5;124;43m\"\u001b[39;49m\u001b[38;5;124;43mstrict\u001b[39;49m\u001b[38;5;124;43m\"\u001b[39;49m\u001b[43m)\u001b[49m\u001b[43m,\u001b[49m\n\u001b[0;32m   1886\u001b[0m \u001b[43m    \u001b[49m\u001b[43mstorage_options\u001b[49m\u001b[38;5;241;43m=\u001b[39;49m\u001b[38;5;28;43mself\u001b[39;49m\u001b[38;5;241;43m.\u001b[39;49m\u001b[43moptions\u001b[49m\u001b[38;5;241;43m.\u001b[39;49m\u001b[43mget\u001b[49m\u001b[43m(\u001b[49m\u001b[38;5;124;43m\"\u001b[39;49m\u001b[38;5;124;43mstorage_options\u001b[39;49m\u001b[38;5;124;43m\"\u001b[39;49m\u001b[43m,\u001b[49m\u001b[43m \u001b[49m\u001b[38;5;28;43;01mNone\u001b[39;49;00m\u001b[43m)\u001b[49m\u001b[43m,\u001b[49m\n\u001b[0;32m   1887\u001b[0m \u001b[43m\u001b[49m\u001b[43m)\u001b[49m\n\u001b[0;32m   1888\u001b[0m \u001b[38;5;28;01massert\u001b[39;00m \u001b[38;5;28mself\u001b[39m\u001b[38;5;241m.\u001b[39mhandles \u001b[38;5;129;01mis\u001b[39;00m \u001b[38;5;129;01mnot\u001b[39;00m \u001b[38;5;28;01mNone\u001b[39;00m\n\u001b[0;32m   1889\u001b[0m f \u001b[38;5;241m=\u001b[39m \u001b[38;5;28mself\u001b[39m\u001b[38;5;241m.\u001b[39mhandles\u001b[38;5;241m.\u001b[39mhandle\n",
      "File \u001b[1;32mc:\\Program Files\\Python39\\lib\\site-packages\\pandas\\io\\common.py:873\u001b[0m, in \u001b[0;36mget_handle\u001b[1;34m(path_or_buf, mode, encoding, compression, memory_map, is_text, errors, storage_options)\u001b[0m\n\u001b[0;32m    868\u001b[0m \u001b[38;5;28;01melif\u001b[39;00m \u001b[38;5;28misinstance\u001b[39m(handle, \u001b[38;5;28mstr\u001b[39m):\n\u001b[0;32m    869\u001b[0m     \u001b[38;5;66;03m# Check whether the filename is to be opened in binary mode.\u001b[39;00m\n\u001b[0;32m    870\u001b[0m     \u001b[38;5;66;03m# Binary mode does not support 'encoding' and 'newline'.\u001b[39;00m\n\u001b[0;32m    871\u001b[0m     \u001b[38;5;28;01mif\u001b[39;00m ioargs\u001b[38;5;241m.\u001b[39mencoding \u001b[38;5;129;01mand\u001b[39;00m \u001b[38;5;124m\"\u001b[39m\u001b[38;5;124mb\u001b[39m\u001b[38;5;124m\"\u001b[39m \u001b[38;5;129;01mnot\u001b[39;00m \u001b[38;5;129;01min\u001b[39;00m ioargs\u001b[38;5;241m.\u001b[39mmode:\n\u001b[0;32m    872\u001b[0m         \u001b[38;5;66;03m# Encoding\u001b[39;00m\n\u001b[1;32m--> 873\u001b[0m         handle \u001b[38;5;241m=\u001b[39m \u001b[38;5;28;43mopen\u001b[39;49m\u001b[43m(\u001b[49m\n\u001b[0;32m    874\u001b[0m \u001b[43m            \u001b[49m\u001b[43mhandle\u001b[49m\u001b[43m,\u001b[49m\n\u001b[0;32m    875\u001b[0m \u001b[43m            \u001b[49m\u001b[43mioargs\u001b[49m\u001b[38;5;241;43m.\u001b[39;49m\u001b[43mmode\u001b[49m\u001b[43m,\u001b[49m\n\u001b[0;32m    876\u001b[0m \u001b[43m            \u001b[49m\u001b[43mencoding\u001b[49m\u001b[38;5;241;43m=\u001b[39;49m\u001b[43mioargs\u001b[49m\u001b[38;5;241;43m.\u001b[39;49m\u001b[43mencoding\u001b[49m\u001b[43m,\u001b[49m\n\u001b[0;32m    877\u001b[0m \u001b[43m            \u001b[49m\u001b[43merrors\u001b[49m\u001b[38;5;241;43m=\u001b[39;49m\u001b[43merrors\u001b[49m\u001b[43m,\u001b[49m\n\u001b[0;32m    878\u001b[0m \u001b[43m            \u001b[49m\u001b[43mnewline\u001b[49m\u001b[38;5;241;43m=\u001b[39;49m\u001b[38;5;124;43m\"\u001b[39;49m\u001b[38;5;124;43m\"\u001b[39;49m\u001b[43m,\u001b[49m\n\u001b[0;32m    879\u001b[0m \u001b[43m        \u001b[49m\u001b[43m)\u001b[49m\n\u001b[0;32m    880\u001b[0m     \u001b[38;5;28;01melse\u001b[39;00m:\n\u001b[0;32m    881\u001b[0m         \u001b[38;5;66;03m# Binary mode\u001b[39;00m\n\u001b[0;32m    882\u001b[0m         handle \u001b[38;5;241m=\u001b[39m \u001b[38;5;28mopen\u001b[39m(handle, ioargs\u001b[38;5;241m.\u001b[39mmode)\n",
      "\u001b[1;31mFileNotFoundError\u001b[0m: [Errno 2] No such file or directory: 'Linux_2k.log_structured.csv'"
     ]
    }
   ],
   "source": [
    "import pandas as pd\n",
    "\n",
    "# Load the log data into a DataFrame\n",
    "df = pd.read_csv('Linux_2k.log_structured.csv')\n",
    "\n",
    "# Display the first few rows of the DataFrame\n",
    "print(df.head())\n",
    "\n",
    "# Get information about the DataFrame\n",
    "print(df.info())\n"
   ]
  },
  {
   "cell_type": "markdown",
   "metadata": {},
   "source": [
    "# view columns"
   ]
  },
  {
   "cell_type": "code",
   "execution_count": 5,
   "metadata": {},
   "outputs": [
    {
     "name": "stdout",
     "output_type": "stream",
     "text": [
      "Index(['LineId', 'Month', 'Date', 'Time', 'Level', 'Component', 'PID',\n",
      "       'Content', 'EventId', 'EventTemplate'],\n",
      "      dtype='object')\n"
     ]
    }
   ],
   "source": [
    "# Print the columns of the DataFrame\n",
    "print(df.columns)\n"
   ]
  },
  {
   "cell_type": "markdown",
   "metadata": {},
   "source": [
    "# PID Login attempts"
   ]
  },
  {
   "cell_type": "code",
   "execution_count": 6,
   "metadata": {},
   "outputs": [
    {
     "name": "stdout",
     "output_type": "stream",
     "text": [
      "Empty DataFrame\n",
      "Columns: [PID, LoginAttemptsCount]\n",
      "Index: []\n"
     ]
    }
   ],
   "source": [
    "# Filter the DataFrame for login events (assuming 'LoginAttempt' is the event template for login attempts)\n",
    "login_attempts_df = df[df['EventTemplate'] == 'LoginAttempt']\n",
    "\n",
    "# Group by 'PID' and count the occurrences\n",
    "login_attempts_count = login_attempts_df.groupby('PID').size().reset_index(name='LoginAttemptsCount')\n",
    "\n",
    "# Display the number of login attempts for each PID\n",
    "print(login_attempts_count)\n"
   ]
  },
  {
   "cell_type": "markdown",
   "metadata": {},
   "source": [
    "# new var success fail or abnormal"
   ]
  },
  {
   "cell_type": "code",
   "execution_count": 14,
   "metadata": {},
   "outputs": [
    {
     "name": "stdout",
     "output_type": "stream",
     "text": [
      "Before adding 'Variation' column:\n",
      "      LineId Month  Date      Time  Level       Component      PID  \\\n",
      "0          1   Jun    14  15:16:01  combo  sshd(pam_unix)  19939.0   \n",
      "1          2   Jun    14  15:16:02  combo  sshd(pam_unix)  19937.0   \n",
      "2          3   Jun    14  15:16:02  combo  sshd(pam_unix)  19937.0   \n",
      "3          4   Jun    15  02:04:59  combo  sshd(pam_unix)  20882.0   \n",
      "4          5   Jun    15  02:04:59  combo  sshd(pam_unix)  20884.0   \n",
      "...      ...   ...   ...       ...    ...             ...      ...   \n",
      "1995    1996   Jul    27  14:41:59  combo          kernel      NaN   \n",
      "1996    1997   Jul    27  14:42:00  combo          kernel      NaN   \n",
      "1997    1998   Jul    27  14:42:00  combo          kernel      NaN   \n",
      "1998    1999   Jul    27  14:42:00  combo          kernel      NaN   \n",
      "1999    2000   Jul    27  14:42:00  combo          kernel      NaN   \n",
      "\n",
      "                                                Content EventId  \\\n",
      "0     authentication failure; logname= uid=0 euid=0 ...     E16   \n",
      "1                              check pass; user unknown     E27   \n",
      "2     authentication failure; logname= uid=0 euid=0 ...     E16   \n",
      "3     authentication failure; logname= uid=0 euid=0 ...     E18   \n",
      "4     authentication failure; logname= uid=0 euid=0 ...     E18   \n",
      "...                                                 ...     ...   \n",
      "1995    pci_hotplug: PCI Hot Plug PCI Core version: 0.5     E83   \n",
      "1996                  isapnp: Scanning for PnP cards...     E60   \n",
      "1997                isapnp: No Plug & Play device found     E59   \n",
      "1998                       Real Time Clock Driver v1.12     E87   \n",
      "1999      Linux agpgart interface v0.100 (c) Dave Jones     E66   \n",
      "\n",
      "                                          EventTemplate  \n",
      "0     authentication failure; logname= uid=0 euid=0 ...  \n",
      "1                              check pass; user unknown  \n",
      "2     authentication failure; logname= uid=0 euid=0 ...  \n",
      "3     authentication failure; logname= uid=0 euid=0 ...  \n",
      "4     authentication failure; logname= uid=0 euid=0 ...  \n",
      "...                                                 ...  \n",
      "1995  pci_hotplug: PCI Hot Plug PCI Core version: <*...  \n",
      "1996                  isapnp: Scanning for PnP cards...  \n",
      "1997                isapnp: No Plug & Play device found  \n",
      "1998                    Real Time Clock Driver v<*>.<*>  \n",
      "1999    Linux agpgart interface v<*>.<*> (c) Dave Jones  \n",
      "\n",
      "[2000 rows x 10 columns]\n",
      "\n",
      "After adding 'Variation' column:\n",
      "      LineId Month  Date      Time  Level       Component      PID  \\\n",
      "0          1   Jun    14  15:16:01  combo  sshd(pam_unix)  19939.0   \n",
      "1          2   Jun    14  15:16:02  combo  sshd(pam_unix)  19937.0   \n",
      "2          3   Jun    14  15:16:02  combo  sshd(pam_unix)  19937.0   \n",
      "3          4   Jun    15  02:04:59  combo  sshd(pam_unix)  20882.0   \n",
      "4          5   Jun    15  02:04:59  combo  sshd(pam_unix)  20884.0   \n",
      "...      ...   ...   ...       ...    ...             ...      ...   \n",
      "1995    1996   Jul    27  14:41:59  combo          kernel      NaN   \n",
      "1996    1997   Jul    27  14:42:00  combo          kernel      NaN   \n",
      "1997    1998   Jul    27  14:42:00  combo          kernel      NaN   \n",
      "1998    1999   Jul    27  14:42:00  combo          kernel      NaN   \n",
      "1999    2000   Jul    27  14:42:00  combo          kernel      NaN   \n",
      "\n",
      "                                                Content EventId  \\\n",
      "0     authentication failure; logname= uid=0 euid=0 ...     E16   \n",
      "1                              check pass; user unknown     E27   \n",
      "2     authentication failure; logname= uid=0 euid=0 ...     E16   \n",
      "3     authentication failure; logname= uid=0 euid=0 ...     E18   \n",
      "4     authentication failure; logname= uid=0 euid=0 ...     E18   \n",
      "...                                                 ...     ...   \n",
      "1995    pci_hotplug: PCI Hot Plug PCI Core version: 0.5     E83   \n",
      "1996                  isapnp: Scanning for PnP cards...     E60   \n",
      "1997                isapnp: No Plug & Play device found     E59   \n",
      "1998                       Real Time Clock Driver v1.12     E87   \n",
      "1999      Linux agpgart interface v0.100 (c) Dave Jones     E66   \n",
      "\n",
      "                                          EventTemplate Variation  \n",
      "0     authentication failure; logname= uid=0 euid=0 ...  Abnormal  \n",
      "1                              check pass; user unknown  Abnormal  \n",
      "2     authentication failure; logname= uid=0 euid=0 ...  Abnormal  \n",
      "3     authentication failure; logname= uid=0 euid=0 ...  Abnormal  \n",
      "4     authentication failure; logname= uid=0 euid=0 ...  Abnormal  \n",
      "...                                                 ...       ...  \n",
      "1995  pci_hotplug: PCI Hot Plug PCI Core version: <*...  Abnormal  \n",
      "1996                  isapnp: Scanning for PnP cards...  Abnormal  \n",
      "1997                isapnp: No Plug & Play device found  Abnormal  \n",
      "1998                    Real Time Clock Driver v<*>.<*>  Abnormal  \n",
      "1999    Linux agpgart interface v<*>.<*> (c) Dave Jones  Abnormal  \n",
      "\n",
      "[2000 rows x 11 columns]\n"
     ]
    }
   ],
   "source": [
    "import pandas as pd\n",
    "\n",
    "# Load the sample data from the CSV file into a DataFrame\n",
    "df = pd.read_csv('Linux_2k.log_structured.csv')\n",
    "\n",
    "# Display the DataFrame before adding the 'Variation' column\n",
    "print(\"Before adding 'Variation' column:\")\n",
    "print(df)\n",
    "\n",
    "# Create 'Variation' column based on the 'EventTemplate' values\n",
    "df['Variation'] = df['EventTemplate'].apply(lambda x: 'Check Pass' if x == 'E27' else ('Authentication Failure' if x == 'E16' else 'Abnormal'))\n",
    "\n",
    "# Display the DataFrame after adding the 'Variation' column\n",
    "print(\"\\nAfter adding 'Variation' column:\")\n",
    "print(df)\n"
   ]
  },
  {
   "cell_type": "code",
   "execution_count": 18,
   "metadata": {},
   "outputs": [
    {
     "name": "stdout",
     "output_type": "stream",
     "text": [
      "\n",
      "After adding 'Variation' column:\n",
      "      LineId Month  Date      Time  Level       Component      PID  \\\n",
      "0          1   Jun    14  15:16:01  combo  sshd(pam_unix)  19939.0   \n",
      "1          2   Jun    14  15:16:02  combo  sshd(pam_unix)  19937.0   \n",
      "2          3   Jun    14  15:16:02  combo  sshd(pam_unix)  19937.0   \n",
      "3          4   Jun    15  02:04:59  combo  sshd(pam_unix)  20882.0   \n",
      "4          5   Jun    15  02:04:59  combo  sshd(pam_unix)  20884.0   \n",
      "...      ...   ...   ...       ...    ...             ...      ...   \n",
      "1995    1996   Jul    27  14:41:59  combo          kernel      NaN   \n",
      "1996    1997   Jul    27  14:42:00  combo          kernel      NaN   \n",
      "1997    1998   Jul    27  14:42:00  combo          kernel      NaN   \n",
      "1998    1999   Jul    27  14:42:00  combo          kernel      NaN   \n",
      "1999    2000   Jul    27  14:42:00  combo          kernel      NaN   \n",
      "\n",
      "                                                Content EventId  \\\n",
      "0     authentication failure; logname= uid=0 euid=0 ...     E16   \n",
      "1                              check pass; user unknown     E27   \n",
      "2     authentication failure; logname= uid=0 euid=0 ...     E16   \n",
      "3     authentication failure; logname= uid=0 euid=0 ...     E18   \n",
      "4     authentication failure; logname= uid=0 euid=0 ...     E18   \n",
      "...                                                 ...     ...   \n",
      "1995    pci_hotplug: PCI Hot Plug PCI Core version: 0.5     E83   \n",
      "1996                  isapnp: Scanning for PnP cards...     E60   \n",
      "1997                isapnp: No Plug & Play device found     E59   \n",
      "1998                       Real Time Clock Driver v1.12     E87   \n",
      "1999      Linux agpgart interface v0.100 (c) Dave Jones     E66   \n",
      "\n",
      "                                          EventTemplate  \\\n",
      "0     authentication failure; logname= uid=0 euid=0 ...   \n",
      "1                              check pass; user unknown   \n",
      "2     authentication failure; logname= uid=0 euid=0 ...   \n",
      "3     authentication failure; logname= uid=0 euid=0 ...   \n",
      "4     authentication failure; logname= uid=0 euid=0 ...   \n",
      "...                                                 ...   \n",
      "1995  pci_hotplug: PCI Hot Plug PCI Core version: <*...   \n",
      "1996                  isapnp: Scanning for PnP cards...   \n",
      "1997                isapnp: No Plug & Play device found   \n",
      "1998                    Real Time Clock Driver v<*>.<*>   \n",
      "1999    Linux agpgart interface v<*>.<*> (c) Dave Jones   \n",
      "\n",
      "                   Variation  \n",
      "0     Authentication Failure  \n",
      "1                 Check Pass  \n",
      "2     Authentication Failure  \n",
      "3                   Abnormal  \n",
      "4                   Abnormal  \n",
      "...                      ...  \n",
      "1995                Abnormal  \n",
      "1996                Abnormal  \n",
      "1997                Abnormal  \n",
      "1998                Abnormal  \n",
      "1999                Abnormal  \n",
      "\n",
      "[2000 rows x 11 columns]\n"
     ]
    }
   ],
   "source": [
    "# Create 'Variation' column based on the 'EventTemplate' values\n",
    "df['Variation'] = df['EventId'].apply(lambda x: 'Check Pass' if x == 'E27' else ('Authentication Failure' if x == 'E16' else 'Abnormal'))\n",
    "\n",
    "# Display the DataFrame after adding the 'Variation' column\n",
    "print(\"\\nAfter adding 'Variation' column:\")\n",
    "print(df)\n"
   ]
  },
  {
   "cell_type": "markdown",
   "metadata": {},
   "source": [
    "# Filter by year"
   ]
  },
  {
   "cell_type": "code",
   "execution_count": 20,
   "metadata": {},
   "outputs": [
    {
     "name": "stdout",
     "output_type": "stream",
     "text": [
      "Filtered DataFrame for year 1997\n",
      "Empty DataFrame\n",
      "Columns: [LineId, Month, Date, Time, Level, Component, PID, Content, EventId, EventTemplate, Variation, Year]\n",
      "Index: []\n"
     ]
    }
   ],
   "source": [
    "# Convert the 'Date' column to datetime format to extract the year\n",
    "df['Date'] = pd.to_datetime(df['Date'])\n",
    "\n",
    "# Extract the year from the 'Date' column\n",
    "df['Year'] = df['Date'].dt.year\n",
    "\n",
    "# Filter the DataFrame by the desired year (e.g., 2022)\n",
    "desired_year = 1997\n",
    "filtered_df = df[df['Year'] == desired_year]\n",
    "\n",
    "# Display the filtered DataFrame\n",
    "print(\"Filtered DataFrame for year\", desired_year)\n",
    "print(filtered_df)\n"
   ]
  },
  {
   "cell_type": "markdown",
   "metadata": {},
   "source": [
    "# displaying the content"
   ]
  },
  {
   "cell_type": "code",
   "execution_count": 21,
   "metadata": {},
   "outputs": [
    {
     "name": "stdout",
     "output_type": "stream",
     "text": [
      "      LineId Month  Date      Time  Level       Component      PID  \\\n",
      "0          1   Jun    14  15:16:01  combo  sshd(pam_unix)  19939.0   \n",
      "1          2   Jun    14  15:16:02  combo  sshd(pam_unix)  19937.0   \n",
      "2          3   Jun    14  15:16:02  combo  sshd(pam_unix)  19937.0   \n",
      "3          4   Jun    15  02:04:59  combo  sshd(pam_unix)  20882.0   \n",
      "4          5   Jun    15  02:04:59  combo  sshd(pam_unix)  20884.0   \n",
      "...      ...   ...   ...       ...    ...             ...      ...   \n",
      "1995    1996   Jul    27  14:41:59  combo          kernel      NaN   \n",
      "1996    1997   Jul    27  14:42:00  combo          kernel      NaN   \n",
      "1997    1998   Jul    27  14:42:00  combo          kernel      NaN   \n",
      "1998    1999   Jul    27  14:42:00  combo          kernel      NaN   \n",
      "1999    2000   Jul    27  14:42:00  combo          kernel      NaN   \n",
      "\n",
      "                                                Content EventId  \\\n",
      "0     authentication failure; logname= uid=0 euid=0 ...     E16   \n",
      "1                              check pass; user unknown     E27   \n",
      "2     authentication failure; logname= uid=0 euid=0 ...     E16   \n",
      "3     authentication failure; logname= uid=0 euid=0 ...     E18   \n",
      "4     authentication failure; logname= uid=0 euid=0 ...     E18   \n",
      "...                                                 ...     ...   \n",
      "1995    pci_hotplug: PCI Hot Plug PCI Core version: 0.5     E83   \n",
      "1996                  isapnp: Scanning for PnP cards...     E60   \n",
      "1997                isapnp: No Plug & Play device found     E59   \n",
      "1998                       Real Time Clock Driver v1.12     E87   \n",
      "1999      Linux agpgart interface v0.100 (c) Dave Jones     E66   \n",
      "\n",
      "                                          EventTemplate  \n",
      "0     authentication failure; logname= uid=0 euid=0 ...  \n",
      "1                              check pass; user unknown  \n",
      "2     authentication failure; logname= uid=0 euid=0 ...  \n",
      "3     authentication failure; logname= uid=0 euid=0 ...  \n",
      "4     authentication failure; logname= uid=0 euid=0 ...  \n",
      "...                                                 ...  \n",
      "1995  pci_hotplug: PCI Hot Plug PCI Core version: <*...  \n",
      "1996                  isapnp: Scanning for PnP cards...  \n",
      "1997                isapnp: No Plug & Play device found  \n",
      "1998                    Real Time Clock Driver v<*>.<*>  \n",
      "1999    Linux agpgart interface v<*>.<*> (c) Dave Jones  \n",
      "\n",
      "[2000 rows x 10 columns]\n"
     ]
    }
   ],
   "source": [
    "import pandas as pd\n",
    "\n",
    "# Load the CSV file into a DataFrame\n",
    "df = pd.read_csv('Linux_2k.log_structured.csv')\n",
    "\n",
    "# Display the content of the DataFrame\n",
    "print(df)\n"
   ]
  },
  {
   "cell_type": "code",
   "execution_count": 22,
   "metadata": {},
   "outputs": [
    {
     "name": "stdout",
     "output_type": "stream",
     "text": [
      "Index(['LineId', 'Month', 'Date', 'Time', 'Level', 'Component', 'PID',\n",
      "       'Content', 'EventId', 'EventTemplate'],\n",
      "      dtype='object')\n"
     ]
    }
   ],
   "source": [
    "# Print the columns of the DataFrame\n",
    "print(df.columns)\n"
   ]
  },
  {
   "cell_type": "code",
   "execution_count": 23,
   "metadata": {},
   "outputs": [
    {
     "name": "stdout",
     "output_type": "stream",
     "text": [
      "LineId             int64\n",
      "Month             object\n",
      "Date               int64\n",
      "Time              object\n",
      "Level             object\n",
      "Component         object\n",
      "PID              float64\n",
      "Content           object\n",
      "EventId           object\n",
      "EventTemplate     object\n",
      "dtype: object\n"
     ]
    }
   ],
   "source": [
    "# Check the data types of columns in the DataFrame\n",
    "print(df.dtypes)\n"
   ]
  },
  {
   "cell_type": "code",
   "execution_count": 24,
   "metadata": {},
   "outputs": [
    {
     "name": "stdout",
     "output_type": "stream",
     "text": [
      "                                          EventTemplate  EventCategory\n",
      "0     authentication failure; logname= uid=0 euid=0 ...            2.0\n",
      "1                              check pass; user unknown            2.0\n",
      "2     authentication failure; logname= uid=0 euid=0 ...            2.0\n",
      "3     authentication failure; logname= uid=0 euid=0 ...            2.0\n",
      "4     authentication failure; logname= uid=0 euid=0 ...            2.0\n",
      "...                                                 ...            ...\n",
      "1995  pci_hotplug: PCI Hot Plug PCI Core version: <*...            2.0\n",
      "1996                  isapnp: Scanning for PnP cards...            2.0\n",
      "1997                isapnp: No Plug & Play device found            2.0\n",
      "1998                    Real Time Clock Driver v<*>.<*>            2.0\n",
      "1999    Linux agpgart interface v<*>.<*> (c) Dave Jones            2.0\n",
      "\n",
      "[2000 rows x 2 columns]\n"
     ]
    }
   ],
   "source": [
    "# Define a dictionary to map EventTemplate values to numerical categories\n",
    "event_template_mapping = {'E27': 0, 'E16': 1, 'other': 2}  # Adjust 'other' as needed\n",
    "\n",
    "# Create a new column 'EventCategory' based on the mapping of 'EventTemplate'\n",
    "df['EventCategory'] = df['EventTemplate'].map(event_template_mapping).fillna(2)  # Fill NaN values with 2\n",
    "\n",
    "# Display the DataFrame with the new 'EventCategory' column\n",
    "print(df[['EventTemplate', 'EventCategory']])\n"
   ]
  },
  {
   "cell_type": "code",
   "execution_count": 25,
   "metadata": {},
   "outputs": [
    {
     "name": "stdout",
     "output_type": "stream",
     "text": [
      "0       authentication failure; logname= uid=0 euid=0 ...\n",
      "1                                check pass; user unknown\n",
      "2       authentication failure; logname= uid=0 euid=0 ...\n",
      "3       authentication failure; logname= uid=0 euid=0 ...\n",
      "4       authentication failure; logname= uid=0 euid=0 ...\n",
      "                              ...                        \n",
      "1995    pci_hotplug: PCI Hot Plug PCI Core version: <*...\n",
      "1996                    isapnp: Scanning for PnP cards...\n",
      "1997                  isapnp: No Plug & Play device found\n",
      "1998                      Real Time Clock Driver v<*>.<*>\n",
      "1999      Linux agpgart interface v<*>.<*> (c) Dave Jones\n",
      "Name: EventTemplate, Length: 2000, dtype: object\n"
     ]
    }
   ],
   "source": [
    "# Display the content of the 'EventTemplate' column\n",
    "print(df['EventTemplate'])\n"
   ]
  },
  {
   "cell_type": "code",
   "execution_count": 26,
   "metadata": {},
   "outputs": [
    {
     "name": "stdout",
     "output_type": "stream",
     "text": [
      "                                          EventTemplate  \\\n",
      "0     authentication failure; logname= uid=0 euid=0 ...   \n",
      "1                              check pass; user unknown   \n",
      "2     authentication failure; logname= uid=0 euid=0 ...   \n",
      "3     authentication failure; logname= uid=0 euid=0 ...   \n",
      "4     authentication failure; logname= uid=0 euid=0 ...   \n",
      "...                                                 ...   \n",
      "1995  pci_hotplug: PCI Hot Plug PCI Core version: <*...   \n",
      "1996                  isapnp: Scanning for PnP cards...   \n",
      "1997                isapnp: No Plug & Play device found   \n",
      "1998                    Real Time Clock Driver v<*>.<*>   \n",
      "1999    Linux agpgart interface v<*>.<*> (c) Dave Jones   \n",
      "\n",
      "                   EventType  \n",
      "0     authentication failure  \n",
      "1                 check pass  \n",
      "2     authentication failure  \n",
      "3     authentication failure  \n",
      "4     authentication failure  \n",
      "...                      ...  \n",
      "1995                abnormal  \n",
      "1996                abnormal  \n",
      "1997                abnormal  \n",
      "1998                abnormal  \n",
      "1999                abnormal  \n",
      "\n",
      "[2000 rows x 2 columns]\n"
     ]
    }
   ],
   "source": [
    "import pandas as pd\n",
    "\n",
    "# Assuming 'df' is your DataFrame containing the data\n",
    "\n",
    "# Define a function to categorize the event types\n",
    "def categorize_event(event_template):\n",
    "    if 'check pass' in event_template:\n",
    "        return 'check pass'\n",
    "    elif 'authentication failure' in event_template:\n",
    "        return 'authentication failure'\n",
    "    else:\n",
    "        return 'abnormal'\n",
    "\n",
    "# Apply the categorize_event function to create a new column 'EventType'\n",
    "df['EventType'] = df['EventTemplate'].apply(categorize_event)\n",
    "\n",
    "# Display the DataFrame with the new 'EventType' column\n",
    "print(df[['EventTemplate', 'EventType']])\n"
   ]
  },
  {
   "cell_type": "code",
   "execution_count": 27,
   "metadata": {},
   "outputs": [
    {
     "name": "stdout",
     "output_type": "stream",
     "text": [
      "EventType\n",
      "abnormal                  69.65\n",
      "authentication failure    24.50\n",
      "check pass                 5.85\n",
      "Name: proportion, dtype: float64\n"
     ]
    }
   ],
   "source": [
    "# Calculate the percentage of each event type\n",
    "event_type_counts = df['EventType'].value_counts(normalize=True) * 100\n",
    "\n",
    "# Display the percentage of each event type\n",
    "print(event_type_counts)\n"
   ]
  },
  {
   "cell_type": "markdown",
   "metadata": {},
   "source": [
    "# creating an auth function"
   ]
  },
  {
   "cell_type": "code",
   "execution_count": 28,
   "metadata": {},
   "outputs": [
    {
     "name": "stdout",
     "output_type": "stream",
     "text": [
      "                                          EventTemplate  \\\n",
      "0     authentication failure; logname= uid=0 euid=0 ...   \n",
      "1                              check pass; user unknown   \n",
      "2     authentication failure; logname= uid=0 euid=0 ...   \n",
      "3     authentication failure; logname= uid=0 euid=0 ...   \n",
      "4     authentication failure; logname= uid=0 euid=0 ...   \n",
      "...                                                 ...   \n",
      "1995  pci_hotplug: PCI Hot Plug PCI Core version: <*...   \n",
      "1996                  isapnp: Scanning for PnP cards...   \n",
      "1997                isapnp: No Plug & Play device found   \n",
      "1998                    Real Time Clock Driver v<*>.<*>   \n",
      "1999    Linux agpgart interface v<*>.<*> (c) Dave Jones   \n",
      "\n",
      "                   EventType  auth  \n",
      "0     authentication failure     1  \n",
      "1                 check pass     0  \n",
      "2     authentication failure     1  \n",
      "3     authentication failure     1  \n",
      "4     authentication failure     1  \n",
      "...                      ...   ...  \n",
      "1995                abnormal     2  \n",
      "1996                abnormal     2  \n",
      "1997                abnormal     2  \n",
      "1998                abnormal     2  \n",
      "1999                abnormal     2  \n",
      "\n",
      "[2000 rows x 3 columns]\n"
     ]
    }
   ],
   "source": [
    "# Define a dictionary to map event types to integer values\n",
    "event_type_mapping = {'check pass': 0, 'authentication failure': 1, 'abnormal': 2}\n",
    "\n",
    "# Create the 'auth' column based on the mapping of 'EventType' to integer values\n",
    "df['auth'] = df['EventType'].map(event_type_mapping)\n",
    "\n",
    "# Display the DataFrame with the new 'auth' column\n",
    "print(df[['EventTemplate', 'EventType', 'auth']])\n"
   ]
  },
  {
   "cell_type": "code",
   "execution_count": 29,
   "metadata": {},
   "outputs": [
    {
     "name": "stdout",
     "output_type": "stream",
     "text": [
      "Index(['LineId', 'Month', 'Date', 'Time', 'Level', 'Component', 'PID',\n",
      "       'Content', 'EventId', 'EventTemplate', 'EventCategory', 'EventType',\n",
      "       'auth'],\n",
      "      dtype='object')\n"
     ]
    }
   ],
   "source": [
    "# Display the fields (columns) of the DataFrame\n",
    "print(df.columns)\n"
   ]
  },
  {
   "cell_type": "code",
   "execution_count": 31,
   "metadata": {},
   "outputs": [
    {
     "name": "stdout",
     "output_type": "stream",
     "text": [
      "          Time      PID\n",
      "0     15:16:01  19939.0\n",
      "1     15:16:02  19937.0\n",
      "2     15:16:02  19937.0\n",
      "3     02:04:59  20882.0\n",
      "4     02:04:59  20884.0\n",
      "...        ...      ...\n",
      "1995  14:41:59      NaN\n",
      "1996  14:42:00      NaN\n",
      "1997  14:42:00      NaN\n",
      "1998  14:42:00      NaN\n",
      "1999  14:42:00      NaN\n",
      "\n",
      "[2000 rows x 2 columns]\n"
     ]
    }
   ],
   "source": [
    "# Display the 'Time' and 'PID' fields from the DataFrame\n",
    "print(df[['Time', 'PID']])\n"
   ]
  },
  {
   "cell_type": "code",
   "execution_count": 32,
   "metadata": {},
   "outputs": [
    {
     "name": "stdout",
     "output_type": "stream",
     "text": [
      "object\n"
     ]
    }
   ],
   "source": [
    "# Display the data type of the 'Time' column\n",
    "print(df['Time'].dtype)\n"
   ]
  },
  {
   "cell_type": "code",
   "execution_count": 33,
   "metadata": {},
   "outputs": [
    {
     "name": "stdout",
     "output_type": "stream",
     "text": [
      "                    Time  Hour\n",
      "0    2024-03-21 15:16:01    15\n",
      "1    2024-03-21 15:16:02    15\n",
      "2    2024-03-21 15:16:02    15\n",
      "3    2024-03-21 02:04:59     2\n",
      "4    2024-03-21 02:04:59     2\n",
      "...                  ...   ...\n",
      "1995 2024-03-21 14:41:59    14\n",
      "1996 2024-03-21 14:42:00    14\n",
      "1997 2024-03-21 14:42:00    14\n",
      "1998 2024-03-21 14:42:00    14\n",
      "1999 2024-03-21 14:42:00    14\n",
      "\n",
      "[2000 rows x 2 columns]\n"
     ]
    },
    {
     "name": "stderr",
     "output_type": "stream",
     "text": [
      "C:\\Users\\BirirSospeter\\AppData\\Local\\Temp\\ipykernel_16496\\1743415700.py:2: UserWarning: Could not infer format, so each element will be parsed individually, falling back to `dateutil`. To ensure parsing is consistent and as-expected, please specify a format.\n",
      "  df['Time'] = pd.to_datetime(df['Time'])\n"
     ]
    }
   ],
   "source": [
    "# Convert the 'Time' column to datetime format if it's not already\n",
    "df['Time'] = pd.to_datetime(df['Time'])\n",
    "\n",
    "# Extract the hour component and create a new 'Hour' column\n",
    "df['Hour'] = df['Time'].dt.hour\n",
    "\n",
    "# Display the DataFrame with the 'Hour' column\n",
    "print(df[['Time', 'Hour']])\n"
   ]
  },
  {
   "cell_type": "markdown",
   "metadata": {},
   "source": [
    "# formatted time"
   ]
  },
  {
   "cell_type": "code",
   "execution_count": 6,
   "metadata": {},
   "outputs": [
    {
     "data": {
      "image/png": "[encoded data removed]",
      "text/plain": [
       "<Figure size 1000x600 with 1 Axes>"
      ]
     },
     "metadata": {},
     "output_type": "display_data"
    }
   ],
   "source": [
    "import pandas as pd\n",
    "import matplotlib.pyplot as plt\n",
    "\n",
    "# Sample DataFrame with 'Time' and 'Hour' columns\n",
    "data = {'Time': ['2024-03-21 08:00:00', '2024-03-21 09:15:00', '2024-03-21 10:30:00', '2024-03-21 11:45:00', '2024-03-21 13:00:00'],\n",
    "        'Hour': [8, 9, 10, 11, 13]}\n",
    "df = pd.DataFrame(data)\n",
    "df['Time'] = pd.to_datetime(df['Time'])\n",
    "\n",
    "# Plotting the 'Hour' values over time\n",
    "plt.figure(figsize=(10, 6))\n",
    "plt.plot(df['Time'], df['Hour'], marker='o')\n",
    "plt.xlabel('Time')\n",
    "plt.ylabel('Hour')\n",
    "plt.title('Hour vs. Time')\n",
    "plt.grid(True)\n",
    "plt.xticks(rotation=45)\n",
    "plt.tight_layout()\n",
    "plt.show()\n"
   ]
  },
  {
   "cell_type": "code",
   "execution_count": 7,
   "metadata": {},
   "outputs": [
    {
     "data": {
      "image/png": "[encoded data removed]",
      "text/plain": [
       "<Figure size 800x600 with 1 Axes>"
      ]
     },
     "metadata": {},
     "output_type": "display_data"
    }
   ],
   "source": [
    "import pandas as pd\n",
    "import matplotlib.pyplot as plt\n",
    "\n",
    "# Sample DataFrame with 'EventTemplate', 'EventType', and 'auth' columns\n",
    "data = {'EventTemplate': ['authentication failure; logname= uid=0 euid=0...', 'check pass; user unknown', 'authentication failure; logname= uid=0 euid=0...', 'authentication failure; logname= uid=0 euid=0...', 'authentication failure; logname= uid=0 euid=0...', 'pci_hotplug: PCI Hot Plug PCI Core version: <*...', 'isapnp: Scanning for PnP cards...', 'isapnp: No Plug & Play device found', 'Real Time Clock Driver v<*>.<*>', 'Linux agpgart interface v<*>.<*> (c) Dave Jones'],\n",
    "        'EventType': ['authentication failure', 'check pass', 'authentication failure', 'authentication failure', 'authentication failure', 'abnormal', 'abnormal', 'abnormal', 'abnormal', 'abnormal'],\n",
    "        'auth': [1, 0, 1, 1, 1, 2, 2, 2, 2, 2]}\n",
    "df = pd.DataFrame(data)\n",
    "\n",
    "# Calculate the percentage of each event type\n",
    "event_counts = df['EventType'].value_counts(normalize=True) * 100\n",
    "\n",
    "# Plotting the bar chart\n",
    "plt.figure(figsize=(8, 6))\n",
    "event_counts.plot(kind='bar', color='skyblue')\n",
    "plt.xlabel('Event Type')\n",
    "plt.ylabel('Percentage')\n",
    "plt.title('Percentage of Each Event Type')\n",
    "plt.xticks(rotation=45, ha='right')\n",
    "plt.tight_layout()\n",
    "plt.show()\n"
   ]
  },
  {
   "cell_type": "code",
   "execution_count": 10,
   "metadata": {},
   "outputs": [
    {
     "name": "stdout",
     "output_type": "stream",
     "text": [
      "                                       EventTemplate               EventType  \\\n",
      "0   authentication failure; logname= uid=0 euid=0...  authentication failure   \n",
      "1                           check pass; user unknown              check pass   \n",
      "2   authentication failure; logname= uid=0 euid=0...  authentication failure   \n",
      "3   authentication failure; logname= uid=0 euid=0...  authentication failure   \n",
      "4   authentication failure; logname= uid=0 euid=0...  authentication failure   \n",
      "5  pci_hotplug: PCI Hot Plug PCI Core version: <*...                abnormal   \n",
      "6                  isapnp: Scanning for PnP cards...                abnormal   \n",
      "7                isapnp: No Plug & Play device found                abnormal   \n",
      "8                    Real Time Clock Driver v<*>.<*>                abnormal   \n",
      "9    Linux agpgart interface v<*>.<*> (c) Dave Jones                abnormal   \n",
      "\n",
      "   auth  \n",
      "0     1  \n",
      "1     0  \n",
      "2     1  \n",
      "3     1  \n",
      "4     1  \n",
      "5     2  \n",
      "6     2  \n",
      "7     2  \n",
      "8     2  \n",
      "9     2  \n"
     ]
    }
   ],
   "source": [
    "\n",
    "print(df)\n"
   ]
  },
  {
   "cell_type": "code",
   "execution_count": 11,
   "metadata": {},
   "outputs": [
    {
     "name": "stdout",
     "output_type": "stream",
     "text": [
      "Index(['EventTemplate', 'EventType', 'auth'], dtype='object')\n"
     ]
    }
   ],
   "source": [
    "print(df.columns)"
   ]
  },
  {
   "cell_type": "code",
   "execution_count": 12,
   "metadata": {},
   "outputs": [
    {
     "name": "stdout",
     "output_type": "stream",
     "text": [
      "Index(['LineId', 'Month', 'Date', 'Time', 'Level', 'Component', 'PID',\n",
      "       'Content', 'EventId', 'EventTemplate', 'pid'],\n",
      "      dtype='object')\n"
     ]
    }
   ],
   "source": [
    "import pandas as pd\n",
    "\n",
    "# Load the log data into a DataFrame\n",
    "df = pd.read_csv('Linux_2k.log_structured.csv')\n",
    "\n",
    "# Add a new column 'pid' with some sample values\n",
    "df['pid'] = range(1, len(df) + 1)  # Sample values for demonstration purposes\n",
    "\n",
    "# Show the columns of the updated DataFrame\n",
    "print(df.columns)\n"
   ]
  },
  {
   "cell_type": "code",
   "execution_count": 13,
   "metadata": {},
   "outputs": [
    {
     "name": "stdout",
     "output_type": "stream",
     "text": [
      "Index(['LineId', 'Month', 'Date', 'Time', 'Level', 'Component', 'PID',\n",
      "       'Content', 'EventId', 'EventTemplate', 'pid'],\n",
      "      dtype='object')\n"
     ]
    }
   ],
   "source": [
    "print(df.columns)"
   ]
  },
  {
   "cell_type": "code",
   "execution_count": 15,
   "metadata": {},
   "outputs": [
    {
     "name": "stdout",
     "output_type": "stream",
     "text": [
      "Index(['LineId', 'Month', 'Date', 'Time', 'Level', 'Component', 'PID',\n",
      "       'Content', 'EventId', 'EventTemplate', 'pid'],\n",
      "      dtype='object')\n",
      "Index(['EventTemplate', 'Time', 'pid'], dtype='object')\n"
     ]
    }
   ],
   "source": [
    "import pandas as pd\n",
    "\n",
    "# Load the log data into a DataFrame\n",
    "df = pd.read_csv('Linux_2k.log_structured.csv')\n",
    "\n",
    "# Add a new column 'pid' with sample values\n",
    "df['pid'] = range(1, len(df) + 1)  # Sample values for demonstration purposes\n",
    "\n",
    "# Check the actual column names in your DataFrame\n",
    "print(df.columns)\n",
    "\n",
    "# Filter the DataFrame to include only specified columns\n",
    "filtered_df = df.loc[:, ['EventTemplate', 'Time', 'pid']]\n",
    "\n",
    "# Show the columns of the filtered DataFrame\n",
    "print(filtered_df.columns)\n"
   ]
  },
  {
   "cell_type": "code",
   "execution_count": 16,
   "metadata": {},
   "outputs": [
    {
     "name": "stdout",
     "output_type": "stream",
     "text": [
      "0          1\n",
      "1          2\n",
      "2          3\n",
      "3          4\n",
      "4          5\n",
      "        ... \n",
      "1995    1996\n",
      "1996    1997\n",
      "1997    1998\n",
      "1998    1999\n",
      "1999    2000\n",
      "Name: pid, Length: 2000, dtype: int64\n"
     ]
    }
   ],
   "source": [
    "import pandas as pd\n",
    "\n",
    "# Load the log data into a DataFrame\n",
    "df = pd.read_csv('Linux_2k.log_structured.csv')\n",
    "\n",
    "# Add a new column 'pid' with sample values\n",
    "df['pid'] = range(1, len(df) + 1)  # Sample values for demonstration purposes\n",
    "\n",
    "# Display the data of the 'pid' column\n",
    "print(df['pid'])\n"
   ]
  },
  {
   "cell_type": "code",
   "execution_count": 17,
   "metadata": {},
   "outputs": [
    {
     "name": "stdout",
     "output_type": "stream",
     "text": [
      "No repetitions found in the 'pid' column.\n"
     ]
    }
   ],
   "source": [
    "import pandas as pd\n",
    "\n",
    "# Load the log data into a DataFrame\n",
    "df = pd.read_csv('Linux_2k.log_structured.csv')\n",
    "\n",
    "# Add a new column 'pid' with sample values\n",
    "df['pid'] = range(1, len(df) + 1)  # Sample values for demonstration purposes\n",
    "\n",
    "# Check for repetitions in the 'pid' column\n",
    "repetitions_exist = df['pid'].duplicated().any()\n",
    "\n",
    "if repetitions_exist:\n",
    "    print(\"Repetitions exist in the 'pid' column.\")\n",
    "else:\n",
    "    print(\"No repetitions found in the 'pid' column.\")\n"
   ]
  },
  {
   "cell_type": "code",
   "execution_count": 1,
   "metadata": {},
   "outputs": [
    {
     "data": {
      "image/png": "[encoded data removed]",
      "text/plain": [
       "<Figure size 800x600 with 1 Axes>"
      ]
     },
     "metadata": {},
     "output_type": "display_data"
    }
   ],
   "source": [
    "import matplotlib.pyplot as plt\n",
    "\n",
    "# Data\n",
    "event_types = ['abnormal', 'authentication failure', 'check pass']\n",
    "values = [69.65, 24.50, 5.85]\n",
    "\n",
    "# Plotting\n",
    "plt.figure(figsize=(8, 6))\n",
    "plt.bar(event_types, values, color=['blue', 'red', 'green'])\n",
    "plt.xlabel('Event Type')\n",
    "plt.ylabel('Percentage (%)')\n",
    "plt.title('Event Type Distribution')\n",
    "plt.grid(axis='y')\n",
    "\n",
    "# Display the plot\n",
    "plt.show()\n"
   ]
  },
  {
   "cell_type": "code",
   "execution_count": 3,
   "metadata": {},
   "outputs": [
    {
     "ename": "NameError",
     "evalue": "name 'plt' is not defined",
     "output_type": "error",
     "traceback": [
      "\u001b[1;31m---------------------------------------------------------------------------\u001b[0m",
      "\u001b[1;31mNameError\u001b[0m                                 Traceback (most recent call last)",
      "Cell \u001b[1;32mIn[3], line 18\u001b[0m\n\u001b[0;32m     15\u001b[0m y_pred \u001b[38;5;241m=\u001b[39m isolation_forest\u001b[38;5;241m.\u001b[39mpredict(X)\n\u001b[0;32m     17\u001b[0m \u001b[38;5;66;03m# Visualize the results (scatter plot with outliers colored differently)\u001b[39;00m\n\u001b[1;32m---> 18\u001b[0m \u001b[43mplt\u001b[49m\u001b[38;5;241m.\u001b[39mfigure(figsize\u001b[38;5;241m=\u001b[39m(\u001b[38;5;241m8\u001b[39m, \u001b[38;5;241m6\u001b[39m))\n\u001b[0;32m     19\u001b[0m plt\u001b[38;5;241m.\u001b[39mscatter(X[:, \u001b[38;5;241m0\u001b[39m], X[:, \u001b[38;5;241m1\u001b[39m], c\u001b[38;5;241m=\u001b[39my_pred, cmap\u001b[38;5;241m=\u001b[39m\u001b[38;5;124m'\u001b[39m\u001b[38;5;124mviridis\u001b[39m\u001b[38;5;124m'\u001b[39m)\n\u001b[0;32m     20\u001b[0m plt\u001b[38;5;241m.\u001b[39mxlabel(\u001b[38;5;124m'\u001b[39m\u001b[38;5;124mFeature 1\u001b[39m\u001b[38;5;124m'\u001b[39m)\n",
      "\u001b[1;31mNameError\u001b[0m: name 'plt' is not defined"
     ]
    }
   ],
   "source": [
    "from sklearn.ensemble import IsolationForest\n",
    "import numpy as np\n",
    "\n",
    "# Generate random data (replace this with your actual dataset)\n",
    "np.random.seed(42)\n",
    "X = np.random.rand(100, 2)  # 100 samples with 2 features\n",
    "\n",
    "# Initialize the Isolation Forest model\n",
    "isolation_forest = IsolationForest(contamination=0.1)  # Contamination is the expected proportion of outliers\n",
    "\n",
    "# Fit the model\n",
    "isolation_forest.fit(X)\n",
    "\n",
    "# Predict outliers/anomalies\n",
    "y_pred = isolation_forest.predict(X)\n",
    "\n",
    "# Visualize the results (scatter plot with outliers colored differently)\n",
    "plt.figure(figsize=(8, 6))\n",
    "plt.scatter(X[:, 0], X[:, 1], c=y_pred, cmap='viridis')\n",
    "plt.xlabel('Feature 1')\n",
    "plt.ylabel('Feature 2')\n",
    "plt.title('Isolation Forest Anomaly Detection')\n",
    "plt.colorbar(label='Outlier')\n",
    "plt.show()\n"
   ]
  }
 ],
 "metadata": {
  "kernelspec": {
   "display_name": "Python 3",
   "language": "python",
   "name": "python3"
  },
  "language_info": {
   "codemirror_mode": {
    "name": "ipython",
    "version": 3
   },
   "file_extension": ".py",
   "mimetype": "text/x-python",
   "name": "python",
   "nbconvert_exporter": "python",
   "pygments_lexer": "ipython3",
   "version": "3.9.0"
  }
 },
 "nbformat": 4,
 "nbformat_minor": 2
}
